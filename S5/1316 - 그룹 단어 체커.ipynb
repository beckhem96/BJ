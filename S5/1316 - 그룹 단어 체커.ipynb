{
 "cells": [
  {
   "cell_type": "markdown",
   "id": "13ec6703",
   "metadata": {},
   "source": [
    "```\n",
    "그룹 단어란 단어에 존재하는 모든 문자에 대해서, 각 문자가 연속해서 나타나는 경우만을 말한다. 예를 들면, ccazzzzbb는 c, a, z, b가 모두 연속해서 나타나고, kin도 k, i, n이 연속해서 나타나기 때문에 그룹 단어이지만, aabbbccb는 b가 떨어져서 나타나기 때문에 그룹 단어가 아니다.\n",
    "\n",
    "단어 N개를 입력으로 받아 그룹 단어의 개수를 출력하는 프로그램을 작성하시오.```\n"
   ]
  },
  {
   "cell_type": "code",
   "execution_count": 14,
   "id": "38f2fc69",
   "metadata": {},
   "outputs": [
    {
     "name": "stdout",
     "output_type": "stream",
     "text": [
      "4\n",
      "aba\n",
      "abab\n",
      "abcabc\n",
      "a\n",
      "1\n"
     ]
    }
   ],
   "source": [
    "N = int(input())\n",
    "result = N\n",
    "\n",
    "for tc in range(N):\n",
    "    word = input()\n",
    "    word_list = []\n",
    "    \n",
    "    \n",
    "    for i in range(len(word)):\n",
    "        if len(word_list) != 0:\n",
    "            if word_list[-1] != word[i]:\n",
    "                if word[i] in word_list:\n",
    "                    result -= 1\n",
    "                    break\n",
    "        word_list.append(word[i])\n",
    "                \n",
    "print(result)"
   ]
  }
 ],
 "metadata": {
  "kernelspec": {
   "display_name": "Python 3 (ipykernel)",
   "language": "python",
   "name": "python3"
  },
  "language_info": {
   "codemirror_mode": {
    "name": "ipython",
    "version": 3
   },
   "file_extension": ".py",
   "mimetype": "text/x-python",
   "name": "python",
   "nbconvert_exporter": "python",
   "pygments_lexer": "ipython3",
   "version": "3.9.9"
  },
  "toc": {
   "base_numbering": 1,
   "nav_menu": {},
   "number_sections": true,
   "sideBar": true,
   "skip_h1_title": false,
   "title_cell": "Table of Contents",
   "title_sidebar": "Contents",
   "toc_cell": false,
   "toc_position": {},
   "toc_section_display": true,
   "toc_window_display": false
  }
 },
 "nbformat": 4,
 "nbformat_minor": 5
}
