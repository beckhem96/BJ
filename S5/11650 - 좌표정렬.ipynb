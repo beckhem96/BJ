{
 "cells": [
  {
   "cell_type": "markdown",
   "id": "ffe12453",
   "metadata": {},
   "source": [
    "```\n",
    "2차원 평면 위의 점 N개가 주어진다. 좌표를 x좌표가 증가하는 순으로, x좌표가 같으면 y좌표가 증가하는 순서로 정렬한 다음 출력하는 프로그램을 작성하시오.\n",
    "```"
   ]
  },
  {
   "cell_type": "code",
   "execution_count": 36,
   "id": "ab1ea541",
   "metadata": {},
   "outputs": [
    {
     "name": "stdout",
     "output_type": "stream",
     "text": [
      "5\n",
      "3 4\n",
      "1 1\n",
      "1 -1\n",
      "2 2\n",
      "3 3\n",
      "[[1, -1], [1, 1], [2, 2], [3, 3], [3, 4]]\n"
     ]
    }
   ],
   "source": [
    "N = int(input())\n",
    "L = []\n",
    "R = []\n",
    "\n",
    "arr = [list(map(int, input().split())) for _ in range(N)]\n",
    "\n",
    "for j in range(len(arr[0])):\n",
    "    for k in range(N-1, -1, -1):\n",
    "        for i in range(k):\n",
    "            if arr[i][j] > arr[i+1][j]:\n",
    "                arr[i][j], arr[i+1][j] = arr[i+1][j], arr[i][j]\n",
    "\n",
    "for i in range(N):\n",
    "    for j in range(len(arr[0])):\n",
    "        print(arr[i][j], end=' ')\n",
    "    print()\n",
    "# 시간 초과"
   ]
  },
  {
   "cell_type": "code",
   "execution_count": 39,
   "id": "189b577f",
   "metadata": {
    "scrolled": true
   },
   "outputs": [
    {
     "data": {
      "text/plain": [
       "[[1, -1], [1, 1], [2, 2], [3, 3], [3, 4]]"
      ]
     },
     "execution_count": 39,
     "metadata": {},
     "output_type": "execute_result"
    }
   ],
   "source": [
    "N = int(input())\n",
    "L = []\n",
    "R = []\n",
    "\n",
    "arr = [list(map(int, input().split())) for _ in range(N)]\n",
    "arr = sorted(arr)\n",
    "\n",
    "for i in range(N):\n",
    "    for j in range(len(arr[0])):\n",
    "        print(arr[i][j], end=' ')\n",
    "    print()\n",
    "# 정렬 함수 쓰는 문제 아닌 것 같긴한데 통과함"
   ]
  }
 ],
 "metadata": {
  "kernelspec": {
   "display_name": "Python 3 (ipykernel)",
   "language": "python",
   "name": "python3"
  },
  "language_info": {
   "codemirror_mode": {
    "name": "ipython",
    "version": 3
   },
   "file_extension": ".py",
   "mimetype": "text/x-python",
   "name": "python",
   "nbconvert_exporter": "python",
   "pygments_lexer": "ipython3",
   "version": "3.9.9"
  },
  "toc": {
   "base_numbering": 1,
   "nav_menu": {},
   "number_sections": true,
   "sideBar": true,
   "skip_h1_title": false,
   "title_cell": "Table of Contents",
   "title_sidebar": "Contents",
   "toc_cell": false,
   "toc_position": {},
   "toc_section_display": true,
   "toc_window_display": false
  }
 },
 "nbformat": 4,
 "nbformat_minor": 5
}
