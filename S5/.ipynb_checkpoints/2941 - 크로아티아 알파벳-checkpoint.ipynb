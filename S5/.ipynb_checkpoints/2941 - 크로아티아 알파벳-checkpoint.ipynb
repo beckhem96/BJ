{
 "cells": [
  {
   "cell_type": "markdown",
   "id": "e34030e6",
   "metadata": {},
   "source": [
    "```\n",
    "예전에는 운영체제에서 크로아티아 알파벳을 입력할 수가 없었다. 따라서, 다음과 같이 크로아티아 알파벳을 변경해서 입력했다.\n",
    "\n",
    "크로아티아 알파벳\t변경\n",
    "č\tc=\n",
    "ć\tc-\n",
    "dž\tdz=\n",
    "đ\td-\n",
    "lj\tlj\n",
    "nj\tnj\n",
    "š\ts=\n",
    "ž\tz=\n",
    "예를 들어, ljes=njak은 크로아티아 알파벳 6개(lj, e, š, nj, a, k)로 이루어져 있다. 단어가 주어졌을 때, 몇 개의 크로아티아 알파벳으로 이루어져 있는지 출력한다.\n",
    "\n",
    "dž는 무조건 하나의 알파벳으로 쓰이고, d와 ž가 분리된 것으로 보지 않는다. lj와 nj도 마찬가지이다. 위 목록에 없는 알파벳은 한 글자씩 센다.\n",
    "\n",
    "입력\n",
    "첫째 줄에 최대 100글자의 단어가 주어진다. 알파벳 소문자와 '-', '='로만 이루어져 있다.\n",
    "\n",
    "단어는 크로아티아 알파벳으로 이루어져 있다. 문제 설명의 표에 나와있는 알파벳은 변경된 형태로 입력된다.\n",
    "```\n",
    "문제 링크 - https://www.acmicpc.net/problem/2941"
   ]
  },
  {
   "cell_type": "code",
   "execution_count": 89,
   "id": "174c9eb0",
   "metadata": {},
   "outputs": [
    {
     "name": "stdout",
     "output_type": "stream",
     "text": [
      "dz=ak\n",
      "3\n"
     ]
    }
   ],
   "source": [
    "word = input()\n",
    "croa_words = ['c=', 'c-', 'dz=', 'd-', 'lj', 'nj', 's=', 'z=',\n",
    "             'a', 'b', 'c', 'd', 'e', 'f', 'g', 'h', 'i', 'j', 'k', 'l', 'm', 'n', 'o', 'p', 'q', 'r', 's', 't', 'u', 'v', 'w', 'x', 'y', 'z', '-', '=']\n",
    "result = 0\n",
    "word += '0'*2 # out of range 오류 안나게\n",
    "\n",
    "for _ in range(len(word)-2): # 문자열 원래 길이만큼 반복\n",
    "    for j in range(2, -1, -1):   # 크로아티아 문자 최대 길이가 3이니\n",
    "        if word[:1+j] in croa_words:  # 앞에서 부터 3개 2개 1개 씩 확인\n",
    "            word = word[1+j:]          # 문자 리스트에 맞는게 있으면 뺴주고 저장해주고\n",
    "            result += 1                # 1개 세줌\n",
    "            break                      # 그리고 다시 3개씩 확인하기 위해 break\n",
    "        elif word[0] == '0':           # 앞에서 설정한 0을 만나면 break\n",
    "            break\n",
    "\n",
    "\n",
    "print(result)"
   ]
  }
 ],
 "metadata": {
  "kernelspec": {
   "display_name": "Python 3 (ipykernel)",
   "language": "python",
   "name": "python3"
  },
  "language_info": {
   "codemirror_mode": {
    "name": "ipython",
    "version": 3
   },
   "file_extension": ".py",
   "mimetype": "text/x-python",
   "name": "python",
   "nbconvert_exporter": "python",
   "pygments_lexer": "ipython3",
   "version": "3.9.9"
  },
  "toc": {
   "base_numbering": 1,
   "nav_menu": {},
   "number_sections": true,
   "sideBar": true,
   "skip_h1_title": false,
   "title_cell": "Table of Contents",
   "title_sidebar": "Contents",
   "toc_cell": false,
   "toc_position": {},
   "toc_section_display": true,
   "toc_window_display": false
  }
 },
 "nbformat": 4,
 "nbformat_minor": 5
}
