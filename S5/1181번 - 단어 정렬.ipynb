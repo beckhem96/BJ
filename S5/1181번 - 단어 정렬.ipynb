{
 "cells": [
  {
   "cell_type": "markdown",
   "id": "3232ae6e",
   "metadata": {},
   "source": [
    "```\n",
    "알파벳 소문자로 이루어진 N개의 단어가 들어오면 아래와 같은 조건에 따라 정렬하는 프로그램을 작성하시오.\n",
    "\n",
    "길이가 짧은 것부터\n",
    "길이가 같으면 사전 순으로\n",
    "```"
   ]
  },
  {
   "cell_type": "code",
   "execution_count": 13,
   "id": "efdfd2a2",
   "metadata": {
    "scrolled": true
   },
   "outputs": [
    {
     "name": "stdout",
     "output_type": "stream",
     "text": [
      "13\n",
      "but\n",
      "i\n",
      "wont\n",
      "hesitate\n",
      "no\n",
      "more\n",
      "no\n",
      "more\n",
      "it\n",
      "cannot\n",
      "wait\n",
      "im\n",
      "yours\n",
      "i\n",
      "it\n",
      "no\n",
      "im\n",
      "but\n",
      "more\n",
      "wait\n",
      "wont\n",
      "yours\n",
      "cannot\n",
      "hesitate\n"
     ]
    }
   ],
   "source": [
    "N = int(input())\n",
    "word_list = [input() for _ in range(N)]\n",
    "word_list\n",
    "word_list = list(set(sorted(word_list)))\n",
    "for j in range(len(word_list)-1, -1, -1):\n",
    "    for i in range(j):\n",
    "        if len(word_list[i]) > len(word_list[i+1]):\n",
    "            word_list[i], word_list[i+1] = word_list[i+1], word_list[i]\n",
    "for result in word_list:\n",
    "    print(result)\n"
   ]
  }
 ],
 "metadata": {
  "kernelspec": {
   "display_name": "Python 3 (ipykernel)",
   "language": "python",
   "name": "python3"
  },
  "language_info": {
   "codemirror_mode": {
    "name": "ipython",
    "version": 3
   },
   "file_extension": ".py",
   "mimetype": "text/x-python",
   "name": "python",
   "nbconvert_exporter": "python",
   "pygments_lexer": "ipython3",
   "version": "3.9.9"
  },
  "toc": {
   "base_numbering": 1,
   "nav_menu": {},
   "number_sections": true,
   "sideBar": true,
   "skip_h1_title": false,
   "title_cell": "Table of Contents",
   "title_sidebar": "Contents",
   "toc_cell": false,
   "toc_position": {},
   "toc_section_display": true,
   "toc_window_display": false
  }
 },
 "nbformat": 4,
 "nbformat_minor": 5
}
